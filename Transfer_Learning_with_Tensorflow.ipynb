{
  "cells": [
    {
      "cell_type": "markdown",
      "metadata": {
        "id": "f558f689-c63d-4b28-90f7-5b9809e7daa8"
      },
      "source": [
        "# Transfer Learning with TensorFlow Part 3: Scaling up (Food vision mini)\n",
        "\n",
        "We've seen the power of transfer learning feature extraction and fine-tuning, now it's time to scale up to all of the classes in Food101 (101 total classes of food).\n",
        "\n",
        "Our goal is to beat the originial Food101 paper with 10% of the training data (leveraging the power of Deep Learning)\n",
        "\n",
        "Our baseline to beat is 50.76% accuracy across 101 classes."
      ],
      "id": "f558f689-c63d-4b28-90f7-5b9809e7daa8"
    },
    {
      "cell_type": "markdown",
      "metadata": {
        "id": "c70ba3fe-fc8d-472f-95bd-8d2e11f2dfb1"
      },
      "source": [
        "## Creating helper functions \n",
        "\n",
        "In previous notebooks, we've created a series of helper functions to do differents tasks, lets download them."
      ],
      "id": "c70ba3fe-fc8d-472f-95bd-8d2e11f2dfb1"
    },
    {
      "cell_type": "code",
      "execution_count": null,
      "metadata": {
        "colab": {
          "base_uri": "https://localhost:8080/"
        },
        "id": "4b151dae-5b88-4ef9-9feb-4768c81c818d",
        "outputId": "4749a71e-a888-45ad-e4c6-120829cc30a2"
      },
      "outputs": [
        {
          "name": "stdout",
          "output_type": "stream",
          "text": [
            "--2022-07-24 09:43:29--  https://raw.githubusercontent.com/mrdbourke/tensorflow-deep-learning/main/extras/helper_functions.py\n",
            "Resolving raw.githubusercontent.com (raw.githubusercontent.com)... 185.199.108.133, 185.199.109.133, 185.199.110.133, ...\n",
            "Connecting to raw.githubusercontent.com (raw.githubusercontent.com)|185.199.108.133|:443... connected.\n",
            "HTTP request sent, awaiting response... 200 OK\n",
            "Length: 10246 (10K) [text/plain]\n",
            "Saving to: ‘helper_functions.py’\n",
            "\n",
            "\rhelper_functions.py   0%[                    ]       0  --.-KB/s               \rhelper_functions.py 100%[===================>]  10.01K  --.-KB/s    in 0s      \n",
            "\n",
            "2022-07-24 09:43:29 (84.9 MB/s) - ‘helper_functions.py’ saved [10246/10246]\n",
            "\n"
          ]
        }
      ],
      "source": [
        "!wget https://raw.githubusercontent.com/mrdbourke/tensorflow-deep-learning/main/extras/helper_functions.py"
      ],
      "id": "4b151dae-5b88-4ef9-9feb-4768c81c818d"
    },
    {
      "cell_type": "code",
      "execution_count": null,
      "metadata": {
        "id": "45daad41-69e8-4909-b14b-8fe3152971df"
      },
      "outputs": [],
      "source": [
        "# Import series of helper functions for our notebook\n",
        "from helper_functions import create_tensorboard_callback, plot_loss_curves, unzip_data, compare_historys, walk_through_dir"
      ],
      "id": "45daad41-69e8-4909-b14b-8fe3152971df"
    },
    {
      "cell_type": "markdown",
      "metadata": {
        "id": "ae200d8d-3697-4ccc-9cce-1dcfd71f46b2"
      },
      "source": [
        "## 101 Food Classes: working with less data\n",
        "\n",
        "Our goal is to beat the original Food101 paper with 10% of the training data, so let's download it.\n",
        "\n",
        "The data we're downloading comes from the original Food101 dataset but has been preprocessed using the image_data_modification notebook. https://github.com/mrdbourke/tensorflow-deep-learning/blob/main/extras/image_data_modification.ipynb"
      ],
      "id": "ae200d8d-3697-4ccc-9cce-1dcfd71f46b2"
    },
    {
      "cell_type": "code",
      "execution_count": null,
      "metadata": {
        "colab": {
          "base_uri": "https://localhost:8080/"
        },
        "id": "c012a6c6-7b5d-4781-a7fa-9d445af781a6",
        "outputId": "b2390e68-65df-45a4-cda5-86806e09a5da"
      },
      "outputs": [
        {
          "name": "stdout",
          "output_type": "stream",
          "text": [
            "--2022-07-24 09:43:35--  https://storage.googleapis.com/ztm_tf_course/food_vision/101_food_classes_10_percent.zip\n",
            "Resolving storage.googleapis.com (storage.googleapis.com)... 172.217.212.128, 172.217.214.128, 172.253.114.128, ...\n",
            "Connecting to storage.googleapis.com (storage.googleapis.com)|172.217.212.128|:443... connected.\n",
            "HTTP request sent, awaiting response... 200 OK\n",
            "Length: 1625420029 (1.5G) [application/zip]\n",
            "Saving to: ‘101_food_classes_10_percent.zip’\n",
            "\n",
            "101_food_classes_10 100%[===================>]   1.51G   171MB/s    in 9.3s    \n",
            "\n",
            "2022-07-24 09:43:44 (167 MB/s) - ‘101_food_classes_10_percent.zip’ saved [1625420029/1625420029]\n",
            "\n"
          ]
        }
      ],
      "source": [
        "!wget https://storage.googleapis.com/ztm_tf_course/food_vision/101_food_classes_10_percent.zip\n",
        "unzip_data('101_food_classes_10_percent.zip')\n",
        "\n",
        "train_dir = '101_food_classes_10_percent/train/'\n",
        "test_dir = '101_food_classes_10_percent/test/'"
      ],
      "id": "c012a6c6-7b5d-4781-a7fa-9d445af781a6"
    },
    {
      "cell_type": "code",
      "execution_count": null,
      "metadata": {
        "colab": {
          "base_uri": "https://localhost:8080/"
        },
        "id": "16156185-15dd-4941-a91c-8c1ae811b432",
        "outputId": "87e5b47c-cb1c-4567-e6de-cb547c7d12f4"
      },
      "outputs": [
        {
          "name": "stdout",
          "output_type": "stream",
          "text": [
            "There are 2 directories and 0 images in '101_food_classes_10_percent'.\n",
            "There are 101 directories and 0 images in '101_food_classes_10_percent/train'.\n",
            "There are 0 directories and 75 images in '101_food_classes_10_percent/train/gyoza'.\n",
            "There are 0 directories and 75 images in '101_food_classes_10_percent/train/pulled_pork_sandwich'.\n",
            "There are 0 directories and 75 images in '101_food_classes_10_percent/train/panna_cotta'.\n",
            "There are 0 directories and 75 images in '101_food_classes_10_percent/train/cheese_plate'.\n",
            "There are 0 directories and 75 images in '101_food_classes_10_percent/train/prime_rib'.\n",
            "There are 0 directories and 75 images in '101_food_classes_10_percent/train/baby_back_ribs'.\n",
            "There are 0 directories and 75 images in '101_food_classes_10_percent/train/paella'.\n",
            "There are 0 directories and 75 images in '101_food_classes_10_percent/train/pizza'.\n",
            "There are 0 directories and 75 images in '101_food_classes_10_percent/train/strawberry_shortcake'.\n",
            "There are 0 directories and 75 images in '101_food_classes_10_percent/train/pancakes'.\n",
            "There are 0 directories and 75 images in '101_food_classes_10_percent/train/tiramisu'.\n",
            "There are 0 directories and 75 images in '101_food_classes_10_percent/train/grilled_cheese_sandwich'.\n",
            "There are 0 directories and 75 images in '101_food_classes_10_percent/train/caprese_salad'.\n",
            "There are 0 directories and 75 images in '101_food_classes_10_percent/train/oysters'.\n",
            "There are 0 directories and 75 images in '101_food_classes_10_percent/train/macaroni_and_cheese'.\n",
            "There are 0 directories and 75 images in '101_food_classes_10_percent/train/pork_chop'.\n",
            "There are 0 directories and 75 images in '101_food_classes_10_percent/train/macarons'.\n",
            "There are 0 directories and 75 images in '101_food_classes_10_percent/train/peking_duck'.\n",
            "There are 0 directories and 75 images in '101_food_classes_10_percent/train/deviled_eggs'.\n",
            "There are 0 directories and 75 images in '101_food_classes_10_percent/train/ice_cream'.\n",
            "There are 0 directories and 75 images in '101_food_classes_10_percent/train/hamburger'.\n",
            "There are 0 directories and 75 images in '101_food_classes_10_percent/train/red_velvet_cake'.\n",
            "There are 0 directories and 75 images in '101_food_classes_10_percent/train/bruschetta'.\n",
            "There are 0 directories and 75 images in '101_food_classes_10_percent/train/tacos'.\n",
            "There are 0 directories and 75 images in '101_food_classes_10_percent/train/cup_cakes'.\n",
            "There are 0 directories and 75 images in '101_food_classes_10_percent/train/ramen'.\n",
            "There are 0 directories and 75 images in '101_food_classes_10_percent/train/hot_dog'.\n",
            "There are 0 directories and 75 images in '101_food_classes_10_percent/train/beignets'.\n",
            "There are 0 directories and 75 images in '101_food_classes_10_percent/train/scallops'.\n",
            "There are 0 directories and 75 images in '101_food_classes_10_percent/train/beef_carpaccio'.\n",
            "There are 0 directories and 75 images in '101_food_classes_10_percent/train/falafel'.\n",
            "There are 0 directories and 75 images in '101_food_classes_10_percent/train/croque_madame'.\n",
            "There are 0 directories and 75 images in '101_food_classes_10_percent/train/seaweed_salad'.\n",
            "There are 0 directories and 75 images in '101_food_classes_10_percent/train/edamame'.\n",
            "There are 0 directories and 75 images in '101_food_classes_10_percent/train/beef_tartare'.\n",
            "There are 0 directories and 75 images in '101_food_classes_10_percent/train/lasagna'.\n",
            "There are 0 directories and 75 images in '101_food_classes_10_percent/train/breakfast_burrito'.\n",
            "There are 0 directories and 75 images in '101_food_classes_10_percent/train/baklava'.\n",
            "There are 0 directories and 75 images in '101_food_classes_10_percent/train/shrimp_and_grits'.\n",
            "There are 0 directories and 75 images in '101_food_classes_10_percent/train/dumplings'.\n",
            "There are 0 directories and 75 images in '101_food_classes_10_percent/train/carrot_cake'.\n",
            "There are 0 directories and 75 images in '101_food_classes_10_percent/train/spaghetti_bolognese'.\n",
            "There are 0 directories and 75 images in '101_food_classes_10_percent/train/huevos_rancheros'.\n",
            "There are 0 directories and 75 images in '101_food_classes_10_percent/train/escargots'.\n",
            "There are 0 directories and 75 images in '101_food_classes_10_percent/train/hot_and_sour_soup'.\n",
            "There are 0 directories and 75 images in '101_food_classes_10_percent/train/clam_chowder'.\n",
            "There are 0 directories and 75 images in '101_food_classes_10_percent/train/cannoli'.\n",
            "There are 0 directories and 75 images in '101_food_classes_10_percent/train/risotto'.\n",
            "There are 0 directories and 75 images in '101_food_classes_10_percent/train/takoyaki'.\n",
            "There are 0 directories and 75 images in '101_food_classes_10_percent/train/frozen_yogurt'.\n",
            "There are 0 directories and 75 images in '101_food_classes_10_percent/train/samosa'.\n",
            "There are 0 directories and 75 images in '101_food_classes_10_percent/train/steak'.\n",
            "There are 0 directories and 75 images in '101_food_classes_10_percent/train/miso_soup'.\n",
            "There are 0 directories and 75 images in '101_food_classes_10_percent/train/lobster_bisque'.\n",
            "There are 0 directories and 75 images in '101_food_classes_10_percent/train/churros'.\n",
            "There are 0 directories and 75 images in '101_food_classes_10_percent/train/mussels'.\n",
            "There are 0 directories and 75 images in '101_food_classes_10_percent/train/cheesecake'.\n",
            "There are 0 directories and 75 images in '101_food_classes_10_percent/train/garlic_bread'.\n",
            "There are 0 directories and 75 images in '101_food_classes_10_percent/train/apple_pie'.\n",
            "There are 0 directories and 75 images in '101_food_classes_10_percent/train/beet_salad'.\n",
            "There are 0 directories and 75 images in '101_food_classes_10_percent/train/bread_pudding'.\n",
            "There are 0 directories and 75 images in '101_food_classes_10_percent/train/french_fries'.\n",
            "There are 0 directories and 75 images in '101_food_classes_10_percent/train/pad_thai'.\n",
            "There are 0 directories and 75 images in '101_food_classes_10_percent/train/club_sandwich'.\n",
            "There are 0 directories and 75 images in '101_food_classes_10_percent/train/chicken_curry'.\n",
            "There are 0 directories and 75 images in '101_food_classes_10_percent/train/greek_salad'.\n",
            "There are 0 directories and 75 images in '101_food_classes_10_percent/train/hummus'.\n",
            "There are 0 directories and 75 images in '101_food_classes_10_percent/train/spring_rolls'.\n",
            "There are 0 directories and 75 images in '101_food_classes_10_percent/train/crab_cakes'.\n",
            "There are 0 directories and 75 images in '101_food_classes_10_percent/train/sashimi'.\n",
            "There are 0 directories and 75 images in '101_food_classes_10_percent/train/gnocchi'.\n",
            "There are 0 directories and 75 images in '101_food_classes_10_percent/train/grilled_salmon'.\n",
            "There are 0 directories and 75 images in '101_food_classes_10_percent/train/sushi'.\n",
            "There are 0 directories and 75 images in '101_food_classes_10_percent/train/chicken_quesadilla'.\n",
            "There are 0 directories and 75 images in '101_food_classes_10_percent/train/nachos'.\n",
            "There are 0 directories and 75 images in '101_food_classes_10_percent/train/ravioli'.\n",
            "There are 0 directories and 75 images in '101_food_classes_10_percent/train/pho'.\n",
            "There are 0 directories and 75 images in '101_food_classes_10_percent/train/waffles'.\n",
            "There are 0 directories and 75 images in '101_food_classes_10_percent/train/eggs_benedict'.\n",
            "There are 0 directories and 75 images in '101_food_classes_10_percent/train/tuna_tartare'.\n",
            "There are 0 directories and 75 images in '101_food_classes_10_percent/train/ceviche'.\n",
            "There are 0 directories and 75 images in '101_food_classes_10_percent/train/bibimbap'.\n",
            "There are 0 directories and 75 images in '101_food_classes_10_percent/train/filet_mignon'.\n",
            "There are 0 directories and 75 images in '101_food_classes_10_percent/train/fish_and_chips'.\n",
            "There are 0 directories and 75 images in '101_food_classes_10_percent/train/fried_rice'.\n",
            "There are 0 directories and 75 images in '101_food_classes_10_percent/train/omelette'.\n",
            "There are 0 directories and 75 images in '101_food_classes_10_percent/train/fried_calamari'.\n",
            "There are 0 directories and 75 images in '101_food_classes_10_percent/train/chocolate_mousse'.\n",
            "There are 0 directories and 75 images in '101_food_classes_10_percent/train/chocolate_cake'.\n",
            "There are 0 directories and 75 images in '101_food_classes_10_percent/train/french_onion_soup'.\n",
            "There are 0 directories and 75 images in '101_food_classes_10_percent/train/poutine'.\n",
            "There are 0 directories and 75 images in '101_food_classes_10_percent/train/creme_brulee'.\n",
            "There are 0 directories and 75 images in '101_food_classes_10_percent/train/donuts'.\n",
            "There are 0 directories and 75 images in '101_food_classes_10_percent/train/caesar_salad'.\n",
            "There are 0 directories and 75 images in '101_food_classes_10_percent/train/guacamole'.\n",
            "There are 0 directories and 75 images in '101_food_classes_10_percent/train/foie_gras'.\n",
            "There are 0 directories and 75 images in '101_food_classes_10_percent/train/spaghetti_carbonara'.\n",
            "There are 0 directories and 75 images in '101_food_classes_10_percent/train/onion_rings'.\n",
            "There are 0 directories and 75 images in '101_food_classes_10_percent/train/lobster_roll_sandwich'.\n",
            "There are 0 directories and 75 images in '101_food_classes_10_percent/train/french_toast'.\n",
            "There are 0 directories and 75 images in '101_food_classes_10_percent/train/chicken_wings'.\n",
            "There are 101 directories and 0 images in '101_food_classes_10_percent/test'.\n",
            "There are 0 directories and 250 images in '101_food_classes_10_percent/test/gyoza'.\n",
            "There are 0 directories and 250 images in '101_food_classes_10_percent/test/pulled_pork_sandwich'.\n",
            "There are 0 directories and 250 images in '101_food_classes_10_percent/test/panna_cotta'.\n",
            "There are 0 directories and 250 images in '101_food_classes_10_percent/test/cheese_plate'.\n",
            "There are 0 directories and 250 images in '101_food_classes_10_percent/test/prime_rib'.\n",
            "There are 0 directories and 250 images in '101_food_classes_10_percent/test/baby_back_ribs'.\n",
            "There are 0 directories and 250 images in '101_food_classes_10_percent/test/paella'.\n",
            "There are 0 directories and 250 images in '101_food_classes_10_percent/test/pizza'.\n",
            "There are 0 directories and 250 images in '101_food_classes_10_percent/test/strawberry_shortcake'.\n",
            "There are 0 directories and 250 images in '101_food_classes_10_percent/test/pancakes'.\n",
            "There are 0 directories and 250 images in '101_food_classes_10_percent/test/tiramisu'.\n",
            "There are 0 directories and 250 images in '101_food_classes_10_percent/test/grilled_cheese_sandwich'.\n",
            "There are 0 directories and 250 images in '101_food_classes_10_percent/test/caprese_salad'.\n",
            "There are 0 directories and 250 images in '101_food_classes_10_percent/test/oysters'.\n",
            "There are 0 directories and 250 images in '101_food_classes_10_percent/test/macaroni_and_cheese'.\n",
            "There are 0 directories and 250 images in '101_food_classes_10_percent/test/pork_chop'.\n",
            "There are 0 directories and 250 images in '101_food_classes_10_percent/test/macarons'.\n",
            "There are 0 directories and 250 images in '101_food_classes_10_percent/test/peking_duck'.\n",
            "There are 0 directories and 250 images in '101_food_classes_10_percent/test/deviled_eggs'.\n",
            "There are 0 directories and 250 images in '101_food_classes_10_percent/test/ice_cream'.\n",
            "There are 0 directories and 250 images in '101_food_classes_10_percent/test/hamburger'.\n",
            "There are 0 directories and 250 images in '101_food_classes_10_percent/test/red_velvet_cake'.\n",
            "There are 0 directories and 250 images in '101_food_classes_10_percent/test/bruschetta'.\n",
            "There are 0 directories and 250 images in '101_food_classes_10_percent/test/tacos'.\n",
            "There are 0 directories and 250 images in '101_food_classes_10_percent/test/cup_cakes'.\n",
            "There are 0 directories and 250 images in '101_food_classes_10_percent/test/ramen'.\n",
            "There are 0 directories and 250 images in '101_food_classes_10_percent/test/hot_dog'.\n",
            "There are 0 directories and 250 images in '101_food_classes_10_percent/test/beignets'.\n",
            "There are 0 directories and 250 images in '101_food_classes_10_percent/test/scallops'.\n",
            "There are 0 directories and 250 images in '101_food_classes_10_percent/test/beef_carpaccio'.\n",
            "There are 0 directories and 250 images in '101_food_classes_10_percent/test/falafel'.\n",
            "There are 0 directories and 250 images in '101_food_classes_10_percent/test/croque_madame'.\n",
            "There are 0 directories and 250 images in '101_food_classes_10_percent/test/seaweed_salad'.\n",
            "There are 0 directories and 250 images in '101_food_classes_10_percent/test/edamame'.\n",
            "There are 0 directories and 250 images in '101_food_classes_10_percent/test/beef_tartare'.\n",
            "There are 0 directories and 250 images in '101_food_classes_10_percent/test/lasagna'.\n",
            "There are 0 directories and 250 images in '101_food_classes_10_percent/test/breakfast_burrito'.\n",
            "There are 0 directories and 250 images in '101_food_classes_10_percent/test/baklava'.\n",
            "There are 0 directories and 250 images in '101_food_classes_10_percent/test/shrimp_and_grits'.\n",
            "There are 0 directories and 250 images in '101_food_classes_10_percent/test/dumplings'.\n",
            "There are 0 directories and 250 images in '101_food_classes_10_percent/test/carrot_cake'.\n",
            "There are 0 directories and 250 images in '101_food_classes_10_percent/test/spaghetti_bolognese'.\n",
            "There are 0 directories and 250 images in '101_food_classes_10_percent/test/huevos_rancheros'.\n",
            "There are 0 directories and 250 images in '101_food_classes_10_percent/test/escargots'.\n",
            "There are 0 directories and 250 images in '101_food_classes_10_percent/test/hot_and_sour_soup'.\n",
            "There are 0 directories and 250 images in '101_food_classes_10_percent/test/clam_chowder'.\n",
            "There are 0 directories and 250 images in '101_food_classes_10_percent/test/cannoli'.\n",
            "There are 0 directories and 250 images in '101_food_classes_10_percent/test/risotto'.\n",
            "There are 0 directories and 250 images in '101_food_classes_10_percent/test/takoyaki'.\n",
            "There are 0 directories and 250 images in '101_food_classes_10_percent/test/frozen_yogurt'.\n",
            "There are 0 directories and 250 images in '101_food_classes_10_percent/test/samosa'.\n",
            "There are 0 directories and 250 images in '101_food_classes_10_percent/test/steak'.\n",
            "There are 0 directories and 250 images in '101_food_classes_10_percent/test/miso_soup'.\n",
            "There are 0 directories and 250 images in '101_food_classes_10_percent/test/lobster_bisque'.\n",
            "There are 0 directories and 250 images in '101_food_classes_10_percent/test/churros'.\n",
            "There are 0 directories and 250 images in '101_food_classes_10_percent/test/mussels'.\n",
            "There are 0 directories and 250 images in '101_food_classes_10_percent/test/cheesecake'.\n",
            "There are 0 directories and 250 images in '101_food_classes_10_percent/test/garlic_bread'.\n",
            "There are 0 directories and 250 images in '101_food_classes_10_percent/test/apple_pie'.\n",
            "There are 0 directories and 250 images in '101_food_classes_10_percent/test/beet_salad'.\n",
            "There are 0 directories and 250 images in '101_food_classes_10_percent/test/bread_pudding'.\n",
            "There are 0 directories and 250 images in '101_food_classes_10_percent/test/french_fries'.\n",
            "There are 0 directories and 250 images in '101_food_classes_10_percent/test/pad_thai'.\n",
            "There are 0 directories and 250 images in '101_food_classes_10_percent/test/club_sandwich'.\n",
            "There are 0 directories and 250 images in '101_food_classes_10_percent/test/chicken_curry'.\n",
            "There are 0 directories and 250 images in '101_food_classes_10_percent/test/greek_salad'.\n",
            "There are 0 directories and 250 images in '101_food_classes_10_percent/test/hummus'.\n",
            "There are 0 directories and 250 images in '101_food_classes_10_percent/test/spring_rolls'.\n",
            "There are 0 directories and 250 images in '101_food_classes_10_percent/test/crab_cakes'.\n",
            "There are 0 directories and 250 images in '101_food_classes_10_percent/test/sashimi'.\n",
            "There are 0 directories and 250 images in '101_food_classes_10_percent/test/gnocchi'.\n",
            "There are 0 directories and 250 images in '101_food_classes_10_percent/test/grilled_salmon'.\n",
            "There are 0 directories and 250 images in '101_food_classes_10_percent/test/sushi'.\n",
            "There are 0 directories and 250 images in '101_food_classes_10_percent/test/chicken_quesadilla'.\n",
            "There are 0 directories and 250 images in '101_food_classes_10_percent/test/nachos'.\n",
            "There are 0 directories and 250 images in '101_food_classes_10_percent/test/ravioli'.\n",
            "There are 0 directories and 250 images in '101_food_classes_10_percent/test/pho'.\n",
            "There are 0 directories and 250 images in '101_food_classes_10_percent/test/waffles'.\n",
            "There are 0 directories and 250 images in '101_food_classes_10_percent/test/eggs_benedict'.\n",
            "There are 0 directories and 250 images in '101_food_classes_10_percent/test/tuna_tartare'.\n",
            "There are 0 directories and 250 images in '101_food_classes_10_percent/test/ceviche'.\n",
            "There are 0 directories and 250 images in '101_food_classes_10_percent/test/bibimbap'.\n",
            "There are 0 directories and 250 images in '101_food_classes_10_percent/test/filet_mignon'.\n",
            "There are 0 directories and 250 images in '101_food_classes_10_percent/test/fish_and_chips'.\n",
            "There are 0 directories and 250 images in '101_food_classes_10_percent/test/fried_rice'.\n",
            "There are 0 directories and 250 images in '101_food_classes_10_percent/test/omelette'.\n",
            "There are 0 directories and 250 images in '101_food_classes_10_percent/test/fried_calamari'.\n",
            "There are 0 directories and 250 images in '101_food_classes_10_percent/test/chocolate_mousse'.\n",
            "There are 0 directories and 250 images in '101_food_classes_10_percent/test/chocolate_cake'.\n",
            "There are 0 directories and 250 images in '101_food_classes_10_percent/test/french_onion_soup'.\n",
            "There are 0 directories and 250 images in '101_food_classes_10_percent/test/poutine'.\n",
            "There are 0 directories and 250 images in '101_food_classes_10_percent/test/creme_brulee'.\n",
            "There are 0 directories and 250 images in '101_food_classes_10_percent/test/donuts'.\n",
            "There are 0 directories and 250 images in '101_food_classes_10_percent/test/caesar_salad'.\n",
            "There are 0 directories and 250 images in '101_food_classes_10_percent/test/guacamole'.\n",
            "There are 0 directories and 250 images in '101_food_classes_10_percent/test/foie_gras'.\n",
            "There are 0 directories and 250 images in '101_food_classes_10_percent/test/spaghetti_carbonara'.\n",
            "There are 0 directories and 250 images in '101_food_classes_10_percent/test/onion_rings'.\n",
            "There are 0 directories and 250 images in '101_food_classes_10_percent/test/lobster_roll_sandwich'.\n",
            "There are 0 directories and 250 images in '101_food_classes_10_percent/test/french_toast'.\n",
            "There are 0 directories and 250 images in '101_food_classes_10_percent/test/chicken_wings'.\n"
          ]
        }
      ],
      "source": [
        "# How many images/ classes are there?\n",
        "walk_through_dir('101_food_classes_10_percent')"
      ],
      "id": "16156185-15dd-4941-a91c-8c1ae811b432"
    },
    {
      "cell_type": "code",
      "execution_count": null,
      "metadata": {
        "colab": {
          "base_uri": "https://localhost:8080/"
        },
        "id": "b00631b1-184f-470e-8e76-3665c2cc2f35",
        "outputId": "5ab5e6d5-79f3-46e6-8e91-369847434553"
      },
      "outputs": [
        {
          "name": "stdout",
          "output_type": "stream",
          "text": [
            "Found 7575 files belonging to 101 classes.\n",
            "Found 25250 files belonging to 101 classes.\n"
          ]
        }
      ],
      "source": [
        "# Setup data inputs\n",
        "import tensorflow as tf \n",
        "IMG_SIZE = (224,224)\n",
        "train_data_all_10_percent = tf.keras.preprocessing.image_dataset_from_directory(train_dir,\n",
        "                                                                               image_size = IMG_SIZE,\n",
        "                                                                               label_mode='categorical')\n",
        "\n",
        "test_data_all_10_percent = tf.keras.preprocessing.image_dataset_from_directory(test_dir,\n",
        "                                                                               image_size = IMG_SIZE,\n",
        "                                                                               label_mode='categorical',\n",
        "                                                                              shuffle=False) #don't shuffle test for prediction analysis\n",
        "\n"
      ],
      "id": "b00631b1-184f-470e-8e76-3665c2cc2f35"
    },
    {
      "cell_type": "markdown",
      "metadata": {
        "id": "59e9e62e-333e-4a0e-b3ff-885e04f26c28"
      },
      "source": [
        "## Train a big dog model with transfer learning on 10% of 101 food classes\n",
        "\n",
        "Here are the steps we're going to take:\n",
        "* Create a ModelCheckPoint callback\n",
        "* Create a data augmentation layer to build data augmentation right into the model\n",
        "* Build a headless (no-top layers) Functional EfficientNetb0 backboned-model (we'll create our own output layer)\n",
        "* Compile our model\n",
        "* Feature extract for 5 full passes (5 epochs on the train dataset and validata on 15% of the test data, to save epoch time)"
      ],
      "id": "59e9e62e-333e-4a0e-b3ff-885e04f26c28"
    },
    {
      "cell_type": "code",
      "execution_count": null,
      "metadata": {
        "id": "f015d11a-9c1b-421f-8537-2d977fb2eed0"
      },
      "outputs": [],
      "source": [
        "# Create checkpoint callback\n",
        "checkpoint_path = '101_classes_10_percent_data_model_checkpoint'\n",
        "checkpoing_callback = tf.keras.callbacks.ModelCheckpoint(checkpoint_path,\n",
        "                                                        save_weights_only=True,\n",
        "                                                        monitor='val_accuracy',\n",
        "                                                        save_best_only=True)"
      ],
      "id": "f015d11a-9c1b-421f-8537-2d977fb2eed0"
    },
    {
      "cell_type": "code",
      "execution_count": null,
      "metadata": {
        "id": "867d08d1-d771-4468-8b65-be1db9c2a577"
      },
      "outputs": [],
      "source": [
        "# Create data augmentation layer to incorporate it right into the model\n",
        "from tensorflow.keras import layers\n",
        "from tensorflow.keras.layers.experimental import preprocessing\n",
        "from tensorflow.keras.models import Sequential \n",
        "\n",
        "# Setup data augmentation\n",
        "data_augmentation = Sequential([\n",
        "    preprocessing.RandomFlip('horizontal'),\n",
        "    preprocessing.RandomRotation(0.2),\n",
        "    preprocessing.RandomHeight(0.2),\n",
        "    preprocessing.RandomWidth(0.2),\n",
        "    preprocessing.RandomZoom(0.2)\n",
        "],name='data_augmentation')"
      ],
      "id": "867d08d1-d771-4468-8b65-be1db9c2a577"
    },
    {
      "cell_type": "code",
      "execution_count": null,
      "metadata": {
        "colab": {
          "base_uri": "https://localhost:8080/"
        },
        "id": "ba7ce823-4fb4-4c4c-9392-2fcd761b1734",
        "outputId": "51d72289-262b-4bc6-e97b-7368396fc1e6"
      },
      "outputs": [
        {
          "name": "stdout",
          "output_type": "stream",
          "text": [
            "Downloading data from https://storage.googleapis.com/keras-applications/efficientnetb0_notop.h5\n",
            "16711680/16705208 [==============================] - 0s 0us/step\n",
            "16719872/16705208 [==============================] - 0s 0us/step\n"
          ]
        }
      ],
      "source": [
        "# Setup the base model and freeze its layers (this will extract features)\n",
        "base_model = tf.keras.applications.EfficientNetB0(include_top=False)\n",
        "base_model.trainable = False\n",
        "\n",
        "#Setup model architecture with trainable top layers\n",
        "inputs = layers.Input(shape=(224,224,3), name='input_layer')\n",
        "x = data_augmentation(inputs) # Augment images (only happens during training phase)\n",
        "x = base_model(x, training= False) #put the base model in inference mode so weights which need to stay frozen, stay frozen\n",
        "x = layers.GlobalAveragePooling2D(name='global_avg_pool_layer')(x)\n",
        "outputs = layers.Dense(len(train_data_all_10_percent.class_names), activation='softmax', name='output_layer')(x)\n",
        "model = tf.keras.Model(inputs, outputs)"
      ],
      "id": "ba7ce823-4fb4-4c4c-9392-2fcd761b1734"
    },
    {
      "cell_type": "code",
      "execution_count": null,
      "metadata": {
        "colab": {
          "base_uri": "https://localhost:8080/"
        },
        "id": "6230a862-52c6-4d58-91ef-67aac3e7af57",
        "outputId": "904800a5-ee69-4f57-931b-7e2b746e6556"
      },
      "outputs": [
        {
          "name": "stdout",
          "output_type": "stream",
          "text": [
            "Model: \"model\"\n",
            "_________________________________________________________________\n",
            " Layer (type)                Output Shape              Param #   \n",
            "=================================================================\n",
            " input_layer (InputLayer)    [(None, 224, 224, 3)]     0         \n",
            "                                                                 \n",
            " data_augmentation (Sequenti  (None, 224, 224, 3)      0         \n",
            " al)                                                             \n",
            "                                                                 \n",
            " efficientnetb0 (Functional)  (None, None, None, 1280)  4049571  \n",
            "                                                                 \n",
            " global_avg_pool_layer (Glob  (None, 1280)             0         \n",
            " alAveragePooling2D)                                             \n",
            "                                                                 \n",
            " output_layer (Dense)        (None, 101)               129381    \n",
            "                                                                 \n",
            "=================================================================\n",
            "Total params: 4,178,952\n",
            "Trainable params: 129,381\n",
            "Non-trainable params: 4,049,571\n",
            "_________________________________________________________________\n"
          ]
        }
      ],
      "source": [
        "# get a summary of model we've created \n",
        "model.summary()"
      ],
      "id": "6230a862-52c6-4d58-91ef-67aac3e7af57"
    },
    {
      "cell_type": "code",
      "execution_count": null,
      "metadata": {
        "colab": {
          "background_save": true,
          "base_uri": "https://localhost:8080/"
        },
        "id": "9a0f6446-bfcd-4d2c-8c59-b7c22cafa096",
        "outputId": "b091694a-0bf2-410a-b377-c601d6446332"
      },
      "outputs": [
        {
          "name": "stdout",
          "output_type": "stream",
          "text": [
            "Epoch 1/5\n",
            "237/237 [==============================] - 703s 3s/step - loss: 3.4838 - accuracy: 0.2441 - val_loss: 2.5937 - val_accuracy: 0.4396\n",
            "Epoch 2/5\n",
            "237/237 [==============================] - 692s 3s/step - loss: 2.3467 - accuracy: 0.4667 - val_loss: 2.2409 - val_accuracy: 0.4756\n",
            "Epoch 3/5\n",
            "237/237 [==============================] - 710s 3s/step - loss: 1.9822 - accuracy: 0.5307 - val_loss: 2.1117 - val_accuracy: 0.4775\n",
            "Epoch 4/5\n",
            "237/237 [==============================] - 697s 3s/step - loss: 1.7580 - accuracy: 0.5744 - val_loss: 2.0056 - val_accuracy: 0.4891\n",
            "Epoch 5/5\n",
            "237/237 [==============================] - 698s 3s/step - loss: 1.5950 - accuracy: 0.6024 - val_loss: 1.9731 - val_accuracy: 0.4931\n"
          ]
        }
      ],
      "source": [
        "model.compile(loss='categorical_crossentropy',\n",
        "             optimizer=tf.keras.optimizers.Adam(),\n",
        "             metrics=['accuracy'])\n",
        "\n",
        "history = model.fit(train_data_all_10_percent,\n",
        "                   epochs=5,\n",
        "                   validation_data=test_data_all_10_percent,\n",
        "                   validation_steps=int(0.15*len(test_data_all_10_percent)),\n",
        "                   callbacks=[checkpoing_callback])"
      ],
      "id": "9a0f6446-bfcd-4d2c-8c59-b7c22cafa096"
    },
    {
      "cell_type": "code",
      "execution_count": null,
      "metadata": {
        "id": "c4556a9e-5bd3-40af-aa3d-44a00b0e0351"
      },
      "outputs": [],
      "source": [
        "# Evaluate on the hwole test dataset\n",
        "feature_extraction_results = model.evaluate(test_data_all_10_percent)\n",
        "feature_extraction_results"
      ],
      "id": "c4556a9e-5bd3-40af-aa3d-44a00b0e0351"
    },
    {
      "cell_type": "code",
      "execution_count": null,
      "metadata": {
        "id": "YwxsBBn83I-P"
      },
      "outputs": [],
      "source": [
        "plot_loss_curves(history)"
      ],
      "id": "YwxsBBn83I-P"
    },
    {
      "cell_type": "markdown",
      "metadata": {
        "id": "hU-Fo36Q3eNH"
      },
      "source": [
        "## Fine-tuning"
      ],
      "id": "hU-Fo36Q3eNH"
    },
    {
      "cell_type": "code",
      "execution_count": null,
      "metadata": {
        "id": "ur4Z7r9I9o2v"
      },
      "outputs": [],
      "source": [
        "# Unfreeze all of the layers in the base model\n",
        "base_model.trainable = True\n",
        "\n",
        "# Refreeze every layers except the last 5 \n",
        "for layer in base_model.layers[:-5]:\n",
        "  layer.trainable = False"
      ],
      "id": "ur4Z7r9I9o2v"
    },
    {
      "cell_type": "code",
      "execution_count": null,
      "metadata": {
        "id": "2OPc-8Sw-MQe"
      },
      "outputs": [],
      "source": [
        "# Recompile model with lower learning rate (its typically best practice to lower the learning rate when fine-tuning)\n",
        "model.compile(loss='categorical_crossentropy',\n",
        "              optimizer=tf.keras.optimizers.Adam(learning_rate=0.0001),\n",
        "              metrics=['accuracy'])"
      ],
      "id": "2OPc-8Sw-MQe"
    },
    {
      "cell_type": "code",
      "execution_count": null,
      "metadata": {
        "id": "ge4jLCYg-M1u"
      },
      "outputs": [],
      "source": [
        "# What layers in the model are trainable?\n",
        "for layer in model.layers:\n",
        "  print(layer.name, layer.trainable)"
      ],
      "id": "ge4jLCYg-M1u"
    },
    {
      "cell_type": "code",
      "execution_count": null,
      "metadata": {
        "id": "LSXCmsy_-M5k"
      },
      "outputs": [],
      "source": [
        "# Check which layers are trainable in our base model\n",
        "for layer_number, layer in enumerate(model.layers[2].layers):\n",
        "  print(layer_number, layer.name, layer.trainable)"
      ],
      "id": "LSXCmsy_-M5k"
    },
    {
      "cell_type": "code",
      "execution_count": null,
      "metadata": {
        "id": "CL1tRHXq-M96"
      },
      "outputs": [],
      "source": [
        "# Fine-tune for 5 more epochs \n",
        "fine_tune_epochs = 10 #model has already done 5 epochs (feature extraction), this is the total number of epochs we're after \n",
        "\n",
        "# Fine-tune our model\n",
        "history_fine_tune = model.fit(train_data_all_10_percent,\n",
        "                              epochs=fine_tune_epochs,\n",
        "                              validation_data=test_data_all_10_percent,\n",
        "                              validation_steps=int(0.15*len(test_data_all_10_percent)),\n",
        "                              #callbacks=[checkpoing_callback],\n",
        "                              initial_epoch=history.epoch[-1])"
      ],
      "id": "CL1tRHXq-M96"
    },
    {
      "cell_type": "code",
      "execution_count": null,
      "metadata": {
        "id": "XRj8nlRP-NBx"
      },
      "outputs": [],
      "source": [
        "# Evaluate on the whole test data\n",
        "all_classes_10_percent_fine_tune_results = model.evaluate(test_data_all_10_percent)\n",
        "all_classes_10_percent_fine_tune_results"
      ],
      "id": "XRj8nlRP-NBx"
    },
    {
      "cell_type": "code",
      "execution_count": null,
      "metadata": {
        "id": "IzwyeknI-NFh"
      },
      "outputs": [],
      "source": [
        "# Compare the histories of feature etraction model with fine-tuning model\n",
        "compare_historys(original_history=history,\n",
        "                 new_history=history_fine_tune,\n",
        "                 initial_epochs=5)"
      ],
      "id": "IzwyeknI-NFh"
    },
    {
      "cell_type": "markdown",
      "metadata": {
        "id": "29SxAvzRC0yL"
      },
      "source": [
        "## Saving and loading our model\n",
        "\n",
        "To use our model in an external application, we'll need to save it and export it somewhere"
      ],
      "id": "29SxAvzRC0yL"
    },
    {
      "cell_type": "code",
      "execution_count": null,
      "metadata": {
        "id": "InaER8n-DjTb"
      },
      "outputs": [],
      "source": [
        "# from google.colab import drive\n",
        "# drive.mount('/content/drive')"
      ],
      "id": "InaER8n-DjTb"
    },
    {
      "cell_type": "code",
      "execution_count": null,
      "metadata": {
        "id": "MYvGDBWCDbqv"
      },
      "outputs": [],
      "source": [
        "# # Save our fine-tuned model\n",
        "# model.save('/content/drive/MyDrive/Tensorflow')"
      ],
      "id": "MYvGDBWCDbqv"
    },
    {
      "cell_type": "code",
      "execution_count": null,
      "metadata": {
        "id": "QA6ySMRLDxMI"
      },
      "outputs": [],
      "source": [
        "# # Load and evaluate a saved model\n",
        "# loaded_model = tf.keras.models.load_model('/content/drive/MyDrive/Tensorflow')"
      ],
      "id": "QA6ySMRLDxMI"
    },
    {
      "cell_type": "code",
      "execution_count": null,
      "metadata": {
        "id": "Y8SUWY0NEWXX"
      },
      "outputs": [],
      "source": [
        "# # Evaluate the loaded model and compare performance to pre-saved model\n",
        "# loaded_model_results = loaded_model.evaluate(test_data_all_10_percent)\n",
        "# loaded_model_results"
      ],
      "id": "Y8SUWY0NEWXX"
    },
    {
      "cell_type": "code",
      "execution_count": null,
      "metadata": {
        "id": "3rjcbSZPEsW5"
      },
      "outputs": [],
      "source": [
        "# all_classes_10_percent_fine_tune_results"
      ],
      "id": "3rjcbSZPEsW5"
    },
    {
      "cell_type": "code",
      "execution_count": null,
      "metadata": {
        "id": "Yff-IWW4FiJA"
      },
      "outputs": [],
      "source": [
        "# loaded_model_results == all_classes_10_percent_fine_tune_results"
      ],
      "id": "Yff-IWW4FiJA"
    },
    {
      "cell_type": "markdown",
      "metadata": {
        "id": "LwNKSblNGLua"
      },
      "source": [
        "## Evaluating the performance of the big dog model across all difference classes\n",
        "\n",
        "Let's make some predictions, visualize them and then later find out which predictions were the 'most' wrong."
      ],
      "id": "LwNKSblNGLua"
    },
    {
      "cell_type": "code",
      "execution_count": null,
      "metadata": {
        "id": "9VyWkJ2tHlfU"
      },
      "outputs": [],
      "source": [
        "import tensorflow as tf\n",
        "\n",
        "!wget https://storage.googleapis.com/ztm_tf_course/food_vision/06_101_food_class_10_percent_saved_big_dog_model.zip"
      ],
      "id": "9VyWkJ2tHlfU"
    },
    {
      "cell_type": "code",
      "execution_count": null,
      "metadata": {
        "id": "wK94OyZ-HyCq"
      },
      "outputs": [],
      "source": [
        "unzip_data('/content/06_101_food_class_10_percent_saved_big_dog_model.zip')"
      ],
      "id": "wK94OyZ-HyCq"
    },
    {
      "cell_type": "code",
      "execution_count": null,
      "metadata": {
        "id": "OudhK6KaH8M9"
      },
      "outputs": [],
      "source": [
        "#Load in the saved model\n",
        "model = tf.keras.models.load_model('/content/06_101_food_class_10_percent_saved_big_dog_model')"
      ],
      "id": "OudhK6KaH8M9"
    },
    {
      "cell_type": "code",
      "execution_count": null,
      "metadata": {
        "id": "6XOEsUeVWX1M"
      },
      "outputs": [],
      "source": [
        "# Evaluate loaded model (the one we just downloaded on test data)\n",
        "results_downloaded_model = model.evaluate(test_data_all_10_percent)\n",
        "results_downloaded_model"
      ],
      "id": "6XOEsUeVWX1M"
    },
    {
      "cell_type": "markdown",
      "metadata": {
        "id": "iwX5ju0vIW6_"
      },
      "source": [
        "## Making predictions with our trained model"
      ],
      "id": "iwX5ju0vIW6_"
    },
    {
      "cell_type": "code",
      "execution_count": null,
      "metadata": {
        "id": "uAAVo3EXbtYi"
      },
      "outputs": [],
      "source": [
        "# Make predictions with model\n",
        "preds_probs = model.predict(test_data_all_10_percent, verbose=1)"
      ],
      "id": "uAAVo3EXbtYi"
    },
    {
      "cell_type": "code",
      "execution_count": null,
      "metadata": {
        "id": "km0ORvCXcO1p"
      },
      "outputs": [],
      "source": [
        "len(test_data_all_10_percent)"
      ],
      "id": "km0ORvCXcO1p"
    },
    {
      "cell_type": "code",
      "execution_count": null,
      "metadata": {
        "id": "H08BnpRPdtZU"
      },
      "outputs": [],
      "source": [
        "len(preds_probs)"
      ],
      "id": "H08BnpRPdtZU"
    },
    {
      "cell_type": "code",
      "execution_count": null,
      "metadata": {
        "id": "JQ71Ygydd9SN"
      },
      "outputs": [],
      "source": [
        "preds_probs.shape"
      ],
      "id": "JQ71Ygydd9SN"
    },
    {
      "cell_type": "code",
      "execution_count": null,
      "metadata": {
        "id": "bIyaqcJLFe3K"
      },
      "outputs": [],
      "source": [
        "# Lets see what the first 10 predictions look like \n",
        "preds_probs[:10]"
      ],
      "id": "bIyaqcJLFe3K"
    },
    {
      "cell_type": "code",
      "execution_count": null,
      "metadata": {
        "id": "RFyF_JahFsJM"
      },
      "outputs": [],
      "source": [
        "# What does the first prediction probability array look like?\n",
        "preds_probs[0], len(preds_probs[0]), sum(preds_probs[0])"
      ],
      "id": "RFyF_JahFsJM"
    },
    {
      "cell_type": "markdown",
      "metadata": {
        "id": "Y4cXw_qjF-09"
      },
      "source": [
        "Our model outputs a prediction probability array (with N number of variables, where N is the number of classes) for each sample passed to the predict method"
      ],
      "id": "Y4cXw_qjF-09"
    },
    {
      "cell_type": "code",
      "execution_count": null,
      "metadata": {
        "id": "6_iSkW_nGXcH"
      },
      "outputs": [],
      "source": [
        "# We get one prediction probability per class (in our case theres 101 prediction probabilities)\n",
        "print(f'Number of prediction probabilities for sample 0: {len(preds_probs[0])}')\n",
        "print(f'What prediction probability sample 0 looks like:\\n {preds_probs[0]}')\n",
        "print(f'The class with the highest predicted probability by the model for sample 0: {preds_probs[0].argmax()}')"
      ],
      "id": "6_iSkW_nGXcH"
    },
    {
      "cell_type": "code",
      "execution_count": null,
      "metadata": {
        "id": "_esHvbBfIJ_m"
      },
      "outputs": [],
      "source": [
        "test_data_all_10_percent.class_names[52]"
      ],
      "id": "_esHvbBfIJ_m"
    },
    {
      "cell_type": "code",
      "execution_count": null,
      "metadata": {
        "id": "7HhTZEzwIZA6"
      },
      "outputs": [],
      "source": [
        "# Get the pred classes of each label\n",
        "pred_classes = preds_probs.argmax(axis=1)\n",
        "\n",
        "# How do they look?\n",
        "pred_classes[:10]"
      ],
      "id": "7HhTZEzwIZA6"
    },
    {
      "cell_type": "code",
      "execution_count": null,
      "metadata": {
        "id": "_NjQzE5VI0tm"
      },
      "outputs": [],
      "source": [
        "# How many pred classes do we have?\n",
        "len(pred_classes)"
      ],
      "id": "_NjQzE5VI0tm"
    },
    {
      "cell_type": "markdown",
      "metadata": {
        "id": "sO_K7xAdJGgI"
      },
      "source": [
        "Now we've got a predictions array of all of our model's predictions, to evaluate them, we need to compare them to the original test dataset labels"
      ],
      "id": "sO_K7xAdJGgI"
    },
    {
      "cell_type": "code",
      "execution_count": null,
      "metadata": {
        "id": "bdoQULwlkQvf"
      },
      "outputs": [],
      "source": [
        "test_data_all_10_percent"
      ],
      "id": "bdoQULwlkQvf"
    },
    {
      "cell_type": "code",
      "execution_count": null,
      "metadata": {
        "id": "jVieV3YskouN"
      },
      "outputs": [],
      "source": [
        "len(test_data_all_10_percent)"
      ],
      "id": "jVieV3YskouN"
    },
    {
      "cell_type": "code",
      "execution_count": null,
      "metadata": {
        "id": "8gqKFSoRkStD"
      },
      "outputs": [],
      "source": [
        "# To get our test labels, we need to unravel our test_data BatchDataset\n",
        "y_labels =[]\n",
        "for images, labels in test_data_all_10_percent.unbatch():\n",
        "  y_labels.append(labels.numpy().argmax())\n",
        "y_labels[:10] # look at first 10"
      ],
      "id": "8gqKFSoRkStD"
    },
    {
      "cell_type": "code",
      "execution_count": null,
      "metadata": {
        "id": "xh2-aMpIk5y3"
      },
      "outputs": [],
      "source": [
        "# How many y_labels are there?\n",
        "len(y_labels)"
      ],
      "id": "xh2-aMpIk5y3"
    },
    {
      "cell_type": "markdown",
      "metadata": {
        "id": "t9jZCeJDlEF-"
      },
      "source": [
        "## Evaluating our model's predictions\n",
        "\n",
        "One way to check that our model's predictions array is in the same order as our test labels array is to find the accuracy score"
      ],
      "id": "t9jZCeJDlEF-"
    },
    {
      "cell_type": "code",
      "execution_count": null,
      "metadata": {
        "id": "Ctv_bnHLlkw2"
      },
      "outputs": [],
      "source": [
        "results_downloaded_model"
      ],
      "id": "Ctv_bnHLlkw2"
    },
    {
      "cell_type": "code",
      "execution_count": null,
      "metadata": {
        "id": "8l0GCT6elonl"
      },
      "outputs": [],
      "source": [
        "# Let's try scikit-learns accuracy score function and see what it comes up with\n",
        "from sklearn.metrics import accuracy_score\n",
        "sklearn_accuracy = accuracy_score(y_true=y_labels,\n",
        "                                  y_pred=pred_classes)\n",
        "sklearn_accuracy"
      ],
      "id": "8l0GCT6elonl"
    },
    {
      "cell_type": "code",
      "execution_count": null,
      "metadata": {
        "id": "Zv3bcSrlqKkT"
      },
      "outputs": [],
      "source": [
        "# Does this metric come close to our model's evaluate results \n",
        "import numpy as np\n",
        "np.isclose(results_downloaded_model[1], sklearn_accuracy)"
      ],
      "id": "Zv3bcSrlqKkT"
    },
    {
      "cell_type": "markdown",
      "metadata": {
        "id": "3xYJrtUAqdEb"
      },
      "source": [
        "## Let's get visual: making a confusion matrix"
      ],
      "id": "3xYJrtUAqdEb"
    },
    {
      "cell_type": "code",
      "execution_count": null,
      "metadata": {
        "id": "pLEdJzsvqtPA"
      },
      "outputs": [],
      "source": [
        "from helper_functions import make_confusion_matrix"
      ],
      "id": "pLEdJzsvqtPA"
    },
    {
      "cell_type": "code",
      "execution_count": null,
      "metadata": {
        "id": "_-EUY2kyq-6T"
      },
      "outputs": [],
      "source": [
        "# Get a list of class name\n",
        "class_names = test_data_all_10_percent.class_names\n",
        "class_names[:10]"
      ],
      "id": "_-EUY2kyq-6T"
    },
    {
      "cell_type": "code",
      "execution_count": null,
      "metadata": {
        "id": "CXEWNmTHq2s1"
      },
      "outputs": [],
      "source": [
        "make_confusion_matrix(y_true=y_labels,\n",
        "                      y_pred=pred_classes,\n",
        "                      classes=class_names,\n",
        "                      figsize=(100,100),\n",
        "                      text_size=20)"
      ],
      "id": "CXEWNmTHq2s1"
    },
    {
      "cell_type": "code",
      "execution_count": null,
      "metadata": {
        "id": "lUqvX8qYr9ki"
      },
      "outputs": [],
      "source": [
        "import itertools\n",
        "import matplotlib.pyplot as plt\n",
        "import numpy as np\n",
        "from sklearn.metrics import confusion_matrix\n",
        "\n",
        "# We need to make some changes to our confusion matrix\n",
        "def make_confusion_matrix(y_true, y_pred, classes=None, figsize=(10, 10), text_size=15, norm=False, savefig=False): \n",
        "  \"\"\"Makes a labelled confusion matrix comparing predictions and ground truth labels.\n",
        "\n",
        "  If classes is passed, confusion matrix will be labelled, if not, integer class values\n",
        "  will be used.\n",
        "\n",
        "  Args:\n",
        "    y_true: Array of truth labels (must be same shape as y_pred).\n",
        "    y_pred: Array of predicted labels (must be same shape as y_true).\n",
        "    classes: Array of class labels (e.g. string form). If `None`, integer labels are used.\n",
        "    figsize: Size of output figure (default=(10, 10)).\n",
        "    text_size: Size of output figure text (default=15).\n",
        "    norm: normalize values or not (default=False).\n",
        "    savefig: save confusion matrix to file (default=False).\n",
        "  \n",
        "  Returns:\n",
        "    A labelled confusion matrix plot comparing y_true and y_pred.\n",
        "\n",
        "  Example usage:\n",
        "    make_confusion_matrix(y_true=test_labels, # ground truth test labels\n",
        "                          y_pred=y_preds, # predicted labels\n",
        "                          classes=class_names, # array of class label names\n",
        "                          figsize=(15, 15),\n",
        "                          text_size=10)\n",
        "  \"\"\"  \n",
        "  # Create the confustion matrix\n",
        "  cm = confusion_matrix(y_true, y_pred)\n",
        "  cm_norm = cm.astype(\"float\") / cm.sum(axis=1)[:, np.newaxis] # normalize it\n",
        "  n_classes = cm.shape[0] # find the number of classes we're dealing with\n",
        "\n",
        "  # Plot the figure and make it pretty\n",
        "  fig, ax = plt.subplots(figsize=figsize)\n",
        "  cax = ax.matshow(cm, cmap=plt.cm.Blues) # colors will represent how 'correct' a class is, darker == better\n",
        "  fig.colorbar(cax)\n",
        "\n",
        "  # Are there a list of classes?\n",
        "  if classes:\n",
        "    labels = classes\n",
        "  else:\n",
        "    labels = np.arange(cm.shape[0])\n",
        "  \n",
        "  # Label the axes\n",
        "  ax.set(title=\"Confusion Matrix\",\n",
        "         xlabel=\"Predicted label\",\n",
        "         ylabel=\"True label\",\n",
        "         xticks=np.arange(n_classes), # create enough axis slots for each class\n",
        "         yticks=np.arange(n_classes), \n",
        "         xticklabels=labels, # axes will labeled with class names (if they exist) or ints\n",
        "         yticklabels=labels)\n",
        "  \n",
        "  # Make x-axis labels appear on bottom\n",
        "  ax.xaxis.set_label_position(\"bottom\")\n",
        "  ax.xaxis.tick_bottom()\n",
        "\n",
        "  ### Changed (plot x-labels vertically) ###\n",
        "  plt.xticks(rotation=70, fontsize=text_size)\n",
        "  plt.yticks(fontsize=text_size)\n",
        "\n",
        "  # Set the threshold for different colors\n",
        "  threshold = (cm.max() + cm.min()) / 2.\n",
        "\n",
        "  # Plot the text on each cell\n",
        "  for i, j in itertools.product(range(cm.shape[0]), range(cm.shape[1])):\n",
        "    if norm:\n",
        "      plt.text(j, i, f\"{cm[i, j]} ({cm_norm[i, j]*100:.1f}%)\",\n",
        "              horizontalalignment=\"center\",\n",
        "              color=\"white\" if cm[i, j] > threshold else \"black\",\n",
        "              size=text_size)\n",
        "    else:\n",
        "      plt.text(j, i, f\"{cm[i, j]}\",\n",
        "              horizontalalignment=\"center\",\n",
        "              color=\"white\" if cm[i, j] > threshold else \"black\",\n",
        "              size=text_size)\n",
        "\n",
        "  # Save the figure to the current working directory\n",
        "  if savefig:\n",
        "    fig.savefig(\"confusion_matrix.png\")"
      ],
      "id": "lUqvX8qYr9ki"
    },
    {
      "cell_type": "code",
      "execution_count": null,
      "metadata": {
        "id": "sv-nnpJcrQjp"
      },
      "outputs": [],
      "source": [
        "make_confusion_matrix(y_true=y_labels,\n",
        "                      y_pred=pred_classes,\n",
        "                      classes=class_names,\n",
        "                      figsize=(100,100),\n",
        "                      text_size=20,\n",
        "                      savefig=True)"
      ],
      "id": "sv-nnpJcrQjp"
    },
    {
      "cell_type": "markdown",
      "metadata": {
        "id": "ARKkUIILs55A"
      },
      "source": [
        "## Let's keep the evaluation train going, time for a classification report \n",
        "\n",
        "Scikit-learn has a helpful function for acquiring many difference classification metrics per class (e.g. precision, recall, and F1) called classification reports, let's try it out"
      ],
      "id": "ARKkUIILs55A"
    },
    {
      "cell_type": "code",
      "execution_count": null,
      "metadata": {
        "id": "zippB0QmuR_F"
      },
      "outputs": [],
      "source": [
        "from sklearn.metrics import classification_report\n",
        "print(classification_report(y_true=y_labels,\n",
        "                            y_pred=pred_classes))"
      ],
      "id": "zippB0QmuR_F"
    },
    {
      "cell_type": "code",
      "execution_count": null,
      "metadata": {
        "id": "OcKHRu54vCEP"
      },
      "outputs": [],
      "source": [
        "# Get a dictionary of the classificaion report\n",
        "classification_report_dict = classification_report(y_labels, pred_classes, output_dict=True)\n",
        "classification_report_dict"
      ],
      "id": "OcKHRu54vCEP"
    },
    {
      "cell_type": "markdown",
      "metadata": {
        "id": "ozOAj6ZFwBBD"
      },
      "source": [
        "Let;s plot all of our classes F1-Scores..."
      ],
      "id": "ozOAj6ZFwBBD"
    },
    {
      "cell_type": "code",
      "execution_count": null,
      "metadata": {
        "id": "JaaYyyE_wHB3"
      },
      "outputs": [],
      "source": [
        "# Create empty dictionary\n",
        "class_f1_scores = {}\n",
        "# Look through classification report dictionary items\n",
        "for k, v in classification_report_dict.items():\n",
        "  if k == 'accuracy': \n",
        "    break\n",
        "  else:\n",
        "    # Add class names and f1-scores to new dictionary\n",
        "    class_f1_scores[class_names[int(k)]] = v['f1-score']\n",
        "class_f1_scores"
      ],
      "id": "JaaYyyE_wHB3"
    },
    {
      "cell_type": "code",
      "execution_count": null,
      "metadata": {
        "id": "rEuzYjf8wsSP"
      },
      "outputs": [],
      "source": [
        "# Turn f1-scores into dataframe for visualization\n",
        "import pandas as pd\n",
        "f1_scores = pd.DataFrame({'class_names': list(class_f1_scores.keys()),\n",
        "                          'f1-score': list(class_f1_scores.values())}).sort_values('f1-score', ascending=False)"
      ],
      "id": "rEuzYjf8wsSP"
    },
    {
      "cell_type": "code",
      "execution_count": null,
      "metadata": {
        "id": "s5_jOzn8zh7m"
      },
      "outputs": [],
      "source": [
        "f1_scores"
      ],
      "id": "s5_jOzn8zh7m"
    },
    {
      "cell_type": "code",
      "execution_count": null,
      "metadata": {
        "id": "qpBw8pwXzo2S"
      },
      "outputs": [],
      "source": [
        "import seaborn as sns\n",
        "import matplotlib.pyplot as plt\n",
        "\n",
        "fig, ax = plt.subplots(figsize=(12,25))\n",
        "scores = ax.barh(range(len(f1_scores)), f1_scores['f1-score'].values)\n",
        "ax.set_yticks(range(len(f1_scores)))\n",
        "ax.set_yticklabels(f1_scores['class_names'])\n",
        "ax.set_xlabel('F1_score')\n",
        "ax.set_title('F1-scores for 101 Different Food Classes (predicted by Food vision mini)')\n",
        "ax.invert_yaxis();"
      ],
      "id": "qpBw8pwXzo2S"
    },
    {
      "cell_type": "code",
      "execution_count": null,
      "metadata": {
        "id": "kJMjJSh7z45i"
      },
      "outputs": [],
      "source": [
        "# plt.figsize(size=(20,20))\n",
        "# sns.barplot(x='class_names',\n",
        "#             y='f1-score',\n",
        "#             data=f1_scores)"
      ],
      "id": "kJMjJSh7z45i"
    },
    {
      "cell_type": "code",
      "execution_count": null,
      "metadata": {
        "id": "wOzCvrDD0Mgk"
      },
      "outputs": [],
      "source": [
        "pred_classes"
      ],
      "id": "wOzCvrDD0Mgk"
    },
    {
      "cell_type": "markdown",
      "metadata": {
        "id": "4lLf4-iezJ6U"
      },
      "source": [
        "## Visualizing predictions on test images \n",
        "\n",
        "Now, this is the real test, how does our model go on food images in our test data\n",
        "\n",
        "To visualize our models predicions on our own images, we'll need a function to load and preprocess images, specifically it will need to:\n",
        "* Read in a target image filepath using tf.io.read_file()\n",
        "* Turn the image into a Tensor using tf.io.decode_image()\n",
        "* Resize the image tensor to be the same size as the images our model has trained on using tf.image.resize()\n",
        "* Scale the image to get all of the pixel values between 0 & 1 (if necessary)"
      ],
      "id": "4lLf4-iezJ6U"
    },
    {
      "cell_type": "code",
      "execution_count": null,
      "metadata": {
        "id": "4qmwpmFBzsAr"
      },
      "outputs": [],
      "source": [
        "# Create a function to load and prepare images \n",
        "def load_and_prep_image(filename, img_shape=224, scale=True):\n",
        "  '''\n",
        "  Reads in an image from filename, turns it into a tensor and reshapes into \n",
        "  specified shape (img_shape, img_shape, color_channels=3)\n",
        "\n",
        "  Args:\n",
        "    filename(str): path to target image\n",
        "    image_shape (int): height/width dimension of target image size\n",
        "    scale (bool): scale pixel values from 0-255 to 0-1 or not\n",
        "\n",
        "  Returns:\n",
        "    Image tensor of shape (img_shape, img_shape, 3)\n",
        "  '''\n",
        "  # Read in the image\n",
        "  img = tf.io.read_file(filename)\n",
        "\n",
        "  # Decode image into tensor\n",
        "  img = tf.io.decode_image(img, channels=3)\n",
        "\n",
        "  # Resize the image\n",
        "  img = tf.image.resize(img, [img_shape, img_shape])\n",
        "\n",
        "  # Scale? Yes/No\n",
        "  if scale:\n",
        "    # Rescale the image (get all values between 0 & 1)\n",
        "    return img/255.\n",
        "  else:\n",
        "    return img # Dont need to rescale images for efficientNetB0"
      ],
      "id": "4qmwpmFBzsAr"
    },
    {
      "cell_type": "markdown",
      "metadata": {
        "id": "5xQGDuRZ0wKR"
      },
      "source": [
        "Now we've got a function to load and prepare target images, let's now write some code to visualize images, their target label and our model's predictions.\n",
        "\n",
        "Specifically, we'll write some code to:\n",
        "1. Load a few random images from the test dataset\n",
        "2. Make predictions on the loaded images\n",
        "3. Plot the original image(s) along with the model's predictions, prediction probability and truth label"
      ],
      "id": "5xQGDuRZ0wKR"
    },
    {
      "cell_type": "code",
      "execution_count": null,
      "metadata": {
        "id": "qEx22Eyh47xY"
      },
      "outputs": [],
      "source": [
        "# Make preds on a series of random images\n",
        "import os\n",
        "import random \n",
        "\n",
        "plt.figure(figsize=(17,10))\n",
        "for i in range(3):\n",
        "  # Choose random image(s) from random classes\n",
        "  class_name = random.choice(class_names)\n",
        "  filename = random.choice(os.listdir(test_dir + \"/\" + class_name))\n",
        "  # filepath = test_dir + \"/\" + class_name + \"/\" + filename\n",
        "  filepath = test_dir + class_name + \"/\" + filename\n",
        "  #print(filepath)\n",
        "\n",
        "  # load the image and make predictions\n",
        "  img = load_and_prep_image(filepath, scale=False)\n",
        "  #print(img.shape)\n",
        "  img_expanded = tf.expand_dims(img, axis=0)\n",
        "  #print(img_expanded.shape)\n",
        "  pred_prob = model.predict(tf.expand_dims(img, axis=0)) # get prediction probabilities array\n",
        "  pred_class = class_names[pred_prob.argmax()] # get highest prediction probability index\n",
        "  #print(pred_prob)\n",
        "  #print(pred_class)\n",
        "\n",
        "  #Plot the image(s)\n",
        "  plt.subplot(1,3, i+1)\n",
        "  plt.imshow(img/255.)\n",
        "  if class_name == pred_class: # if predicted class matches truth class, make text green\n",
        "    title_color = 'g'\n",
        "  else:\n",
        "    title_color = 'b'\n",
        "  plt.title(f'actual: {class_name}, pred: {pred_class}, prob: {pred_prob.max():.2f}', c=title_color)\n",
        "  plt.axis(False);"
      ],
      "id": "qEx22Eyh47xY"
    },
    {
      "cell_type": "code",
      "execution_count": null,
      "metadata": {
        "id": "kc2LzKFA5UDY"
      },
      "outputs": [],
      "source": [
        "import random\n",
        "random.choice(class_names)"
      ],
      "id": "kc2LzKFA5UDY"
    },
    {
      "cell_type": "code",
      "execution_count": null,
      "metadata": {
        "id": "IY4xwsQT5n0V"
      },
      "outputs": [],
      "source": [
        "class_names"
      ],
      "id": "IY4xwsQT5n0V"
    },
    {
      "cell_type": "markdown",
      "metadata": {
        "id": "RUOGGdig5q4o"
      },
      "source": [
        "## Finding the most wrong predictions\n",
        "\n",
        "To find out where our model is most wrong, let's write some code to find out the following:\n",
        "1. Get all of the image file paths in the test dataset using `list_files()` method\n",
        "2. Create a pandas DataFrame of the image filepaths, ground truth labels, predicted classes (from our model), max predictions probabilities, prediction class names, ground truth class names. \n",
        "3. Use our DataFrame to find all the wrong predictions (where the ground truth label doesn't match the prediction).\n",
        "4. Sort the DataFrame based on wrong predictions (have the highest prediction probability predictions at the top).\n",
        "5. Visualize the images with the highest prediction probabilities but have the wrong prediction."
      ],
      "id": "RUOGGdig5q4o"
    },
    {
      "cell_type": "code",
      "execution_count": null,
      "metadata": {
        "id": "tMoruOMHZrp-"
      },
      "outputs": [],
      "source": [
        "# 1. Get all of the image file paths in the test dataset\n",
        "filepaths = []\n",
        "for filepath in test_data_all_10_percent.list_files('/content/101_food_classes_10_percent/test/*/*.jpg', \n",
        "                                     shuffle=False):\n",
        "  filepaths.append(filepath.numpy())\n",
        "filepaths[:10]\n"
      ],
      "id": "tMoruOMHZrp-"
    },
    {
      "cell_type": "code",
      "execution_count": null,
      "metadata": {
        "id": "Av0zvXg2a1p0"
      },
      "outputs": [],
      "source": [
        "# 2. Create a DataFrame of different paramenters for each of our test images\n",
        "import pandas as pd\n",
        "pred_df = pd.DataFrame({'img_path': filepaths,\n",
        "                        'y_true': y_labels,\n",
        "                        'y_pred': pred_classes,\n",
        "                        'pred_conf': preds_probs.max(axis=1), #get the maximum prediction prbability value\n",
        "                        'y_true_classname': [class_names[i] for i in y_labels],\n",
        "                        'y_pred_classname': [class_names[i] for i in pred_classes]})\n",
        "pred_df"
      ],
      "id": "Av0zvXg2a1p0"
    },
    {
      "cell_type": "code",
      "execution_count": null,
      "metadata": {
        "id": "SiVNfYjubZ8T"
      },
      "outputs": [],
      "source": [
        "# 3. Find out in our DataFrame which predictions are wrong \n",
        "pred_df['pred_correct'] = pred_df['y_true'] == pred_df['y_pred']\n",
        "pred_df.head()"
      ],
      "id": "SiVNfYjubZ8T"
    },
    {
      "cell_type": "code",
      "execution_count": null,
      "metadata": {
        "id": "hwMFcZklbbQs"
      },
      "outputs": [],
      "source": [
        "# 4. Sort our DataFrame to have most wrong predictions at the top\n",
        "top_100_wrong = pred_df[pred_df['pred_correct']==False].sort_values('pred_conf', ascending=False)[:100]\n",
        "top_100_wrong.head(20)"
      ],
      "id": "hwMFcZklbbQs"
    },
    {
      "cell_type": "code",
      "execution_count": null,
      "metadata": {
        "id": "RpHT1vkbf_5b"
      },
      "outputs": [],
      "source": [
        "# 5. Visualize the test data samples which have wrong prediction but highest pred probability\n",
        "images_to_view = 9\n",
        "start_index = 20\n",
        "plt.figure(figsize=(15,10))\n",
        "for i, row in enumerate(top_100_wrong[start_index:start_index+images_to_view].itertuples()):\n",
        "  plt.subplot(3,3, i+1)\n",
        "  img = load_and_prep_image(row[1], scale=False)\n",
        "  _, _, _, _, pred_prob, y_true_classname, y_pred_classname, _ = row \n",
        "  plt.imshow(img/255.)\n",
        "  plt.title(f'actual: {y_true_classname}, pred: {y_pred_classname} \\nprob: {pred_prob}')\n",
        "  plt.axis(False)"
      ],
      "id": "RpHT1vkbf_5b"
    },
    {
      "cell_type": "markdown",
      "metadata": {
        "id": "uoHsaRolgw2M"
      },
      "source": [
        "## Test out the big dog model on our own custom images"
      ],
      "id": "uoHsaRolgw2M"
    },
    {
      "cell_type": "code",
      "execution_count": null,
      "metadata": {
        "id": "7w6tVH_Oi5lx"
      },
      "outputs": [],
      "source": [
        "# Get custom images \n",
        "!wget https://storage.googleapis.com/ztm_tf_course/food_vision/custom_food_images.zip\n",
        "\n",
        "unzip_data('custom_food_images.zip')"
      ],
      "id": "7w6tVH_Oi5lx"
    },
    {
      "cell_type": "code",
      "execution_count": null,
      "metadata": {
        "id": "6tYOy_jCje-6"
      },
      "outputs": [],
      "source": [
        "# Get the custom food images filepaths \n",
        "custom_food_images = ['custom_food_images/' + img_path for img_path in os.listdir('custom_food_images')]\n",
        "custom_food_images"
      ],
      "id": "6tYOy_jCje-6"
    },
    {
      "cell_type": "code",
      "execution_count": null,
      "metadata": {
        "id": "oCmY-zn0j0Es"
      },
      "outputs": [],
      "source": [
        "# Make predictions on and plot custom food images\n",
        "for img in custom_food_images:\n",
        "  img = load_and_prep_image(img, scale=False)\n",
        "  pred_prob = model.predict(tf.expand_dims(img, axis=0))\n",
        "  pred_class = class_names[pred_prob.argmax()]\n",
        "  # Plot the appropriate information\n",
        "  plt.figure()\n",
        "  plt.imshow(img/255.)\n",
        "  plt.title(f'pred: {y_pred_classname} \\nprob: {pred_prob}')\n",
        "  plt.axis(False)"
      ],
      "id": "oCmY-zn0j0Es"
    },
    {
      "cell_type": "code",
      "execution_count": null,
      "metadata": {
        "id": "s6NKGGpJlcIB"
      },
      "outputs": [],
      "source": [
        ""
      ],
      "id": "s6NKGGpJlcIB"
    }
  ],
  "metadata": {
    "accelerator": "GPU",
    "colab": {
      "collapsed_sections": [],
      "name": "Transfer Learning with Tensorflow.ipynb",
      "provenance": []
    },
    "gpuClass": "standard",
    "kernelspec": {
      "display_name": "Python 3 (ipykernel)",
      "language": "python",
      "name": "python3"
    },
    "language_info": {
      "codemirror_mode": {
        "name": "ipython",
        "version": 3
      },
      "file_extension": ".py",
      "mimetype": "text/x-python",
      "name": "python",
      "nbconvert_exporter": "python",
      "pygments_lexer": "ipython3",
      "version": "3.8.13"
    }
  },
  "nbformat": 4,
  "nbformat_minor": 5
}